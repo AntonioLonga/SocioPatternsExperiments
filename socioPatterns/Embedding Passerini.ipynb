{
 "cells": [
  {
   "cell_type": "code",
   "execution_count": 195,
   "metadata": {},
   "outputs": [
    {
     "name": "stdout",
     "output_type": "stream",
     "text": [
      "The autoreload extension is already loaded. To reload it, use:\n",
      "  %reload_ext autoreload\n"
     ]
    },
    {
     "data": {
      "text/html": [
       "<style>.container { width:97% !important; }</style><style>.output_png {display: table-cell;text-align: center;vertical-align: middle;}</style>"
      ],
      "text/plain": [
       "<IPython.core.display.HTML object>"
      ]
     },
     "execution_count": 195,
     "metadata": {},
     "output_type": "execute_result"
    }
   ],
   "source": [
    "import utilities as ut\n",
    "import construction as cs\n",
    "import singleDatasetAnalysis as san\n",
    "import multipleDatasetAnalysis as man\n",
    "import networkx as nx\n",
    "import numpy as np\n",
    "import matplotlib.pyplot as plt\n",
    "import pandas as pd\n",
    "\n",
    "\n",
    "%load_ext autoreload\n",
    "%autoreload 2\n",
    "\n",
    "\n",
    "from IPython.core.display import HTML\n",
    "HTML('<style>.container { width:97% !important; }</style><style>.output_png {display: table-cell;text-align: center;vertical-align: middle;}</style>')"
   ]
  },
  {
   "cell_type": "code",
   "execution_count": 440,
   "metadata": {},
   "outputs": [
    {
     "name": "stdout",
     "output_type": "stream",
     "text": [
      "150126\n"
     ]
    }
   ],
   "source": [
    "#data_in = cs.load_data(\"data/co-presence/MIO.dat\")\n",
    "data_in = cs.load_data(\"data/co-presence/LH10.dat\")\n",
    "metadata_in = \"data/co-presence/metadata/metadata_LH10.dat\"\n",
    "#data_in = cs.load_data(\"data/co-presence/LyonSchool.dat\")\n",
    "#metadata_in = \"data/co-presence/metadata/metadata_LyonSchool.dat\"\n",
    "print(len(data_in))\n"
   ]
  },
  {
   "cell_type": "code",
   "execution_count": 441,
   "metadata": {},
   "outputs": [],
   "source": [
    "\n",
    "# metadati e colori\n",
    "fp = open(metadata_in, 'r')\n",
    "meta_dict = dict()\n",
    "for line in fp.readlines():\n",
    "    meta_dict[int(line.split(\"\\t\")[0])] = line.split(\"\\t\")[1][0:-1]\n",
    "    \n",
    "fp.close()  \n",
    "np.unique(list(meta_dict.values()))\n",
    "dict_colors = dict()\n",
    "\n",
    "for i in np.unique(list(meta_dict.values())):\n",
    "    dict_colors[i] = np.random.rand(3,)"
   ]
  },
  {
   "cell_type": "code",
   "execution_count": null,
   "metadata": {},
   "outputs": [],
   "source": []
  },
  {
   "cell_type": "code",
   "execution_count": 442,
   "metadata": {},
   "outputs": [],
   "source": [
    "data = data_in[0:50000]"
   ]
  },
  {
   "cell_type": "code",
   "execution_count": 443,
   "metadata": {},
   "outputs": [
    {
     "data": {
      "text/plain": [
       "145"
      ]
     },
     "execution_count": 443,
     "metadata": {},
     "output_type": "execute_result"
    }
   ],
   "source": [
    "graphs,pos = cs.build_graphs(data,500)\n",
    "G = graphs\n",
    "len(graphs)"
   ]
  },
  {
   "cell_type": "code",
   "execution_count": 444,
   "metadata": {},
   "outputs": [],
   "source": [
    "dictionary = dict()\n",
    "for n in G[0].nodes():\n",
    "    dictionary[n] = dict()\n",
    "dictionary\n",
    "for g in G:\n",
    "    for node in g.nodes():\n",
    "        #dictionary[node] = dict()\n",
    "        cliques = nx.cliques_containing_node(g,node)\n",
    "        for clique in cliques:\n",
    "            if (len(clique) in dictionary[node]):\n",
    "                dictionary[node][len(clique)] = dictionary[node][len(clique)] + 1\n",
    "            else: \n",
    "                dictionary[node][len(clique)] = 1\n",
    "    \n",
    "\n",
    "#print(dictionary)\n",
    "# {node : {dim_cricca : frequenza, ...}, .... }"
   ]
  },
  {
   "cell_type": "code",
   "execution_count": 445,
   "metadata": {},
   "outputs": [
    {
     "data": {
      "text/plain": [
       "13"
      ]
     },
     "execution_count": 445,
     "metadata": {},
     "output_type": "execute_result"
    }
   ],
   "source": [
    "# find max dim cricca, per creare matrice embeddings\n",
    "size_max_clique = 0\n",
    "for i in list(dictionary.keys()):\n",
    "    for j in list(dictionary[i].keys()):\n",
    "        if j > size_max_clique:\n",
    "            size_max_clique = j\n",
    "            \n",
    "size_max_clique"
   ]
  },
  {
   "cell_type": "code",
   "execution_count": 478,
   "metadata": {},
   "outputs": [],
   "source": [
    "# matrice embeddings = 0\n",
    "embeddings = np.zeros((len(dictionary),size_max_clique))"
   ]
  },
  {
   "cell_type": "code",
   "execution_count": null,
   "metadata": {},
   "outputs": [],
   "source": []
  },
  {
   "cell_type": "code",
   "execution_count": 479,
   "metadata": {},
   "outputs": [],
   "source": [
    "# riscrivili sulla matrice\n",
    "# pos i,j = k\n",
    "# il nodo i ha k cricche di dimensione j\n",
    "i = 0\n",
    "for node in list(dictionary.keys()):\n",
    "    dic_node = dictionary[node]\n",
    "    j = 0\n",
    "    for clique_size in list(dic_node.keys()):\n",
    "        embeddings[i][clique_size-1] = dic_node[clique_size]\n",
    "        j = j + 1\n",
    "    i = i + 1\n",
    "\n",
    "    \n",
    "embeddings = embeddings[:,5:]\n"
   ]
  },
  {
   "cell_type": "code",
   "execution_count": null,
   "metadata": {},
   "outputs": [],
   "source": [
    "\n",
    "\n"
   ]
  },
  {
   "cell_type": "code",
   "execution_count": 480,
   "metadata": {},
   "outputs": [
    {
     "data": {
      "text/plain": [
       "<BarContainer object of 8 artists>"
      ]
     },
     "execution_count": 480,
     "metadata": {},
     "output_type": "execute_result"
    },
    {
     "data": {
      "image/png": "[encoded data removed]",
      "text/plain": [
       "<Figure size 432x288 with 1 Axes>"
      ]
     },
     "metadata": {
      "needs_background": "light"
     },
     "output_type": "display_data"
    }
   ],
   "source": [
    "from sklearn.decomposition import PCA\n",
    "pca = PCA(n_components=len(embeddings[0]))\n",
    "\n",
    "pca.fit(embeddings)\n",
    "\n",
    "plt.bar(np.arange(len(embeddings[0])),pca.explained_variance_ratio_)"
   ]
  },
  {
   "cell_type": "code",
   "execution_count": 481,
   "metadata": {},
   "outputs": [],
   "source": [
    "nodes = list(dictionary.keys())"
   ]
  },
  {
   "cell_type": "code",
   "execution_count": 482,
   "metadata": {
    "scrolled": false
   },
   "outputs": [
    {
     "data": {
      "image/png": "[encoded data removed]",
      "text/plain": [
       "<Figure size 432x288 with 1 Axes>"
      ]
     },
     "metadata": {
      "needs_background": "light"
     },
     "output_type": "display_data"
    }
   ],
   "source": [
    "new_embeddings = pca.transform(embeddings)\n",
    "j = 0 \n",
    "for i in range(len(new_embeddings)):\n",
    "    j = j +1 \n",
    "    plt.scatter(new_embeddings[i][0],new_embeddings[i][1],color=dict_colors[meta_dict[nodes[i]]])\n",
    "    \n",
    "for i in np.unique(list(meta_dict.values())):\n",
    "    plt.scatter(0,0,color= dict_colors[i],label=i,s=5)\n",
    "plt.legend(loc='center left', bbox_to_anchor=(1, 0.5))\n",
    "plt.show()"
   ]
  },
  {
   "cell_type": "code",
   "execution_count": 471,
   "metadata": {
    "scrolled": false
   },
   "outputs": [
    {
     "data": {
      "image/png": "[encoded data removed]",
      "text/plain": [
       "<Figure size 432x288 with 1 Axes>"
      ]
     },
     "metadata": {
      "needs_background": "light"
     },
     "output_type": "display_data"
    }
   ],
   "source": [
    "new_embeddings = pca.transform(embeddings)\n",
    "j = 0 \n",
    "for i in range(len(new_embeddings)):\n",
    "    j = j +1 \n",
    "    plt.scatter(new_embeddings[i][0],new_embeddings[i][1],color=dict_colors[meta_dict[nodes[i]]])\n",
    "    \n",
    "for i in np.unique(list(meta_dict.values())):\n",
    "    plt.scatter(0,0,color= dict_colors[i],label=i,s=5)\n",
    "plt.legend(loc='center left', bbox_to_anchor=(1, 0.5))\n",
    "plt.show()"
   ]
  },
  {
   "cell_type": "code",
   "execution_count": 300,
   "metadata": {},
   "outputs": [
    {
     "data": {
      "text/plain": [
       "array([0.03725183, 0.74615256, 0.94952513])"
      ]
     },
     "execution_count": 300,
     "metadata": {},
     "output_type": "execute_result"
    }
   ],
   "source": []
  },
  {
   "cell_type": "code",
   "execution_count": 295,
   "metadata": {},
   "outputs": [
    {
     "data": {
      "text/plain": [
       "1098"
      ]
     },
     "execution_count": 295,
     "metadata": {},
     "output_type": "execute_result"
    }
   ],
   "source": [
    "nodes[i]"
   ]
  },
  {
   "cell_type": "code",
   "execution_count": null,
   "metadata": {},
   "outputs": [],
   "source": []
  },
  {
   "cell_type": "code",
   "execution_count": null,
   "metadata": {},
   "outputs": [],
   "source": []
  },
  {
   "cell_type": "code",
   "execution_count": 190,
   "metadata": {},
   "outputs": [],
   "source": [
    "# inizialize dictionary\n",
    "dict_degrees = dict()\n",
    "for n in nodes:\n",
    "    dict_degrees[n] = []\n",
    "for g in graphs:\n",
    "    for n in g.nodes():\n",
    "        degree = nx.degree(g,n)\n",
    "        dict_degrees[n].append(degree)\n",
    "        "
   ]
  },
  {
   "cell_type": "code",
   "execution_count": 210,
   "metadata": {},
   "outputs": [
    {
     "data": {
      "image/png": "[encoded data removed]",
      "text/plain": [
       "<Figure size 720x504 with 1 Axes>"
      ]
     },
     "metadata": {
      "needs_background": "light"
     },
     "output_type": "display_data"
    }
   ],
   "source": [
    "# degree\n",
    "keys = list(dict_degrees.keys())\n",
    "plt.figure(figsize=(10,7))\n",
    "for i in keys:\n",
    "    degrees = dict_degrees[i]\n",
    "    if (meta_dict[i]==\"Admin\"):\n",
    "        plt.plot((degrees),'o',c = dict_colors[meta_dict[i]],alpha=1)\n",
    "for i in np.unique(list(meta_dict.values())):\n",
    "    plt.scatter(0,0,color= dict_colors[i],label=i,s=1)\n",
    "plt.legend(loc='center left', bbox_to_anchor=(1, 0.5))\n",
    "plt.show()"
   ]
  },
  {
   "cell_type": "code",
   "execution_count": null,
   "metadata": {
    "scrolled": false
   },
   "outputs": [],
   "source": []
  },
  {
   "cell_type": "code",
   "execution_count": 10,
   "metadata": {},
   "outputs": [],
   "source": [
    "def get_number_conected_components(graphs):\n",
    "    count = 0\n",
    "\n",
    "    sg = list(nx.connected_component_subgraphs(graphs))\n",
    "    sub_graphs = []\n",
    "\n",
    "    for i in sg:\n",
    "        if not(len(i)==1):\n",
    "            count = count + 1\n",
    "                \n",
    "    return(count)\n",
    "def get_conncted_components(data,gap):\n",
    "    graphs,pos = cs.build_graphs(data,\n",
    "                   gap = gap)\n",
    "    \n",
    "    array_of_subgraphs = []\n",
    "    \n",
    "    for g in graphs:\n",
    "        sg = list(nx.connected_component_subgraphs(g))\n",
    "        sub_graphs = []\n",
    "\n",
    "        for i in sg:\n",
    "            if not(len(i)==1):\n",
    "                sub_graphs.append(i)\n",
    "                \n",
    "        array_of_subgraphs.append(sub_graphs)\n",
    "        \n",
    "    return(array_of_subgraphs)"
   ]
  },
  {
   "cell_type": "code",
   "execution_count": null,
   "metadata": {},
   "outputs": [],
   "source": []
  }
 ],
 "metadata": {
  "kernelspec": {
   "display_name": "Python 3",
   "language": "python",
   "name": "python3"
  },
  "language_info": {
   "codemirror_mode": {
    "name": "ipython",
    "version": 3
   },
   "file_extension": ".py",
   "mimetype": "text/x-python",
   "name": "python",
   "nbconvert_exporter": "python",
   "pygments_lexer": "ipython3",
   "version": "3.7.3"
  }
 },
 "nbformat": 4,
 "nbformat_minor": 2
}
