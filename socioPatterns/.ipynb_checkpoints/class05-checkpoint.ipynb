{
 "cells": [
  {
   "cell_type": "markdown",
   "metadata": {
    "slideshow": {
     "slide_type": "slide"
    }
   },
   "source": [
    "<div class=\"frontmatter text-center\">\n",
    "<h1> CNSC 6013: Statistical Methods in Network Science and Data Analysis</h1>\n",
    "<h2>Class 5: Distribution fitting</h2>\n",
    "<h3>Central European University, Winter 2017/2018</h3>\n",
    "<h3>Instructor: Prof. Michael Szell, TA: David Deritei</h3>\n",
    "adapted from Jeff Alstott, available at: <br />  [https://github.com/jeffalstott/powerlaw/blob/master/manuscript/Manuscript_Code.ipynb](https://github.com/jeffalstott/powerlaw/blob/master/manuscript/Manuscript_Code.ipynb).\n",
    "</div>"
   ]
  },
  {
   "cell_type": "markdown",
   "metadata": {
    "slideshow": {
     "slide_type": "slide"
    }
   },
   "source": [
    "## Overview"
   ]
  },
  {
   "cell_type": "markdown",
   "metadata": {},
   "source": [
    "In this notebook we use the powerlaw library to:\n",
    "* Take a distribution from a real data set, plot it, and check if it follows a power law\n",
    "* Compare the alternative fit of a lognormal\n",
    "\n",
    "Sources:\n",
    "* https://arxiv.org/abs/0706.1062\n",
    "* http://journals.plos.org/plosone/article?id=10.1371/journal.pone.0085777"
   ]
  },
  {
   "cell_type": "markdown",
   "metadata": {
    "slideshow": {
     "slide_type": "slide"
    }
   },
   "source": [
    "## Setup"
   ]
  },
  {
   "cell_type": "markdown",
   "metadata": {},
   "source": [
    "### Import libraries"
   ]
  },
  {
   "cell_type": "code",
   "execution_count": 2,
   "metadata": {},
   "outputs": [
    {
     "name": "stdout",
     "output_type": "stream",
     "text": [
      "1.4.3\n"
     ]
    }
   ],
   "source": [
    "import numpy as np\n",
    "np.seterr(divide='ignore', invalid='ignore') # supressing some warnings - only do this is you know what you are doing\n",
    "from numpy import genfromtxt\n",
    "import powerlaw\n",
    "print(powerlaw.__version__)\n",
    "from pprint import pprint # pretty print\n",
    "\n",
    "#plotting stuff\n",
    "import matplotlib.pyplot as plt\n",
    "import matplotlib\n",
    "%matplotlib inline"
   ]
  },
  {
   "cell_type": "code",
   "execution_count": 3,
   "metadata": {},
   "outputs": [],
   "source": [
    "# change fonts to be less ugly\n",
    "matplotlib.rc('xtick', labelsize=14) \n",
    "matplotlib.rc('ytick', labelsize=14) \n",
    "matplotlib.rc('font', **{'family':'sans-serif','sans-serif':['Arial']})\n",
    "matplotlib.rc('font', size=16)\n",
    "matplotlib.rc('xtick.major', size=6, width=1)\n",
    "matplotlib.rc('xtick.minor', size=3, width=1)\n",
    "matplotlib.rc('ytick.major', size=6, width=1)\n",
    "matplotlib.rc('ytick.minor', size=3, width=1)\n",
    "matplotlib.rc('axes', linewidth=1)"
   ]
  },
  {
   "cell_type": "markdown",
   "metadata": {
    "slideshow": {
     "slide_type": "slide"
    }
   },
   "source": [
    "### Load data"
   ]
  },
  {
   "cell_type": "markdown",
   "metadata": {},
   "source": [
    "Let us load the data: The word frequencies of the book \"Moby Dick\".\n",
    "<img src=\"mobydick.jpg\">"
   ]
  },
  {
   "cell_type": "code",
   "execution_count": 4,
   "metadata": {
    "scrolled": true
   },
   "outputs": [
    {
     "ename": "OSError",
     "evalue": "words.txt not found.",
     "output_type": "error",
     "traceback": [
      "\u001b[0;31m---------------------------------------------------------------------------\u001b[0m",
      "\u001b[0;31mOSError\u001b[0m                                   Traceback (most recent call last)",
      "\u001b[0;32m<ipython-input-4-375e60ffd070>\u001b[0m in \u001b[0;36m<module>\u001b[0;34m\u001b[0m\n\u001b[0;32m----> 1\u001b[0;31m \u001b[0mdata\u001b[0m \u001b[0;34m=\u001b[0m \u001b[0mgenfromtxt\u001b[0m\u001b[0;34m(\u001b[0m\u001b[0;34m'words.txt'\u001b[0m\u001b[0;34m)\u001b[0m\u001b[0;34m\u001b[0m\u001b[0;34m\u001b[0m\u001b[0m\n\u001b[0m\u001b[1;32m      2\u001b[0m \u001b[0;34m\u001b[0m\u001b[0m\n\u001b[1;32m      3\u001b[0m \u001b[0mpprint\u001b[0m\u001b[0;34m(\u001b[0m\u001b[0mdata\u001b[0m\u001b[0;34m[\u001b[0m\u001b[0;34m:\u001b[0m\u001b[0;36m30\u001b[0m\u001b[0;34m]\u001b[0m\u001b[0;34m)\u001b[0m \u001b[0;31m# Check if data has loaded correctly\u001b[0m\u001b[0;34m\u001b[0m\u001b[0;34m\u001b[0m\u001b[0m\n",
      "\u001b[0;32m~/.local/lib/python3.7/site-packages/numpy/lib/npyio.py\u001b[0m in \u001b[0;36mgenfromtxt\u001b[0;34m(fname, dtype, comments, delimiter, skip_header, skip_footer, converters, missing_values, filling_values, usecols, names, excludelist, deletechars, replace_space, autostrip, case_sensitive, defaultfmt, unpack, usemask, loose, invalid_raise, max_rows, encoding)\u001b[0m\n\u001b[1;32m   1742\u001b[0m             \u001b[0mfname\u001b[0m \u001b[0;34m=\u001b[0m \u001b[0mos_fspath\u001b[0m\u001b[0;34m(\u001b[0m\u001b[0mfname\u001b[0m\u001b[0;34m)\u001b[0m\u001b[0;34m\u001b[0m\u001b[0;34m\u001b[0m\u001b[0m\n\u001b[1;32m   1743\u001b[0m         \u001b[0;32mif\u001b[0m \u001b[0misinstance\u001b[0m\u001b[0;34m(\u001b[0m\u001b[0mfname\u001b[0m\u001b[0;34m,\u001b[0m \u001b[0mbasestring\u001b[0m\u001b[0;34m)\u001b[0m\u001b[0;34m:\u001b[0m\u001b[0;34m\u001b[0m\u001b[0;34m\u001b[0m\u001b[0m\n\u001b[0;32m-> 1744\u001b[0;31m             \u001b[0mfhd\u001b[0m \u001b[0;34m=\u001b[0m \u001b[0miter\u001b[0m\u001b[0;34m(\u001b[0m\u001b[0mnp\u001b[0m\u001b[0;34m.\u001b[0m\u001b[0mlib\u001b[0m\u001b[0;34m.\u001b[0m\u001b[0m_datasource\u001b[0m\u001b[0;34m.\u001b[0m\u001b[0mopen\u001b[0m\u001b[0;34m(\u001b[0m\u001b[0mfname\u001b[0m\u001b[0;34m,\u001b[0m \u001b[0;34m'rt'\u001b[0m\u001b[0;34m,\u001b[0m \u001b[0mencoding\u001b[0m\u001b[0;34m=\u001b[0m\u001b[0mencoding\u001b[0m\u001b[0;34m)\u001b[0m\u001b[0;34m)\u001b[0m\u001b[0;34m\u001b[0m\u001b[0;34m\u001b[0m\u001b[0m\n\u001b[0m\u001b[1;32m   1745\u001b[0m             \u001b[0mown_fhd\u001b[0m \u001b[0;34m=\u001b[0m \u001b[0;32mTrue\u001b[0m\u001b[0;34m\u001b[0m\u001b[0;34m\u001b[0m\u001b[0m\n\u001b[1;32m   1746\u001b[0m         \u001b[0;32melse\u001b[0m\u001b[0;34m:\u001b[0m\u001b[0;34m\u001b[0m\u001b[0;34m\u001b[0m\u001b[0m\n",
      "\u001b[0;32m~/.local/lib/python3.7/site-packages/numpy/lib/_datasource.py\u001b[0m in \u001b[0;36mopen\u001b[0;34m(path, mode, destpath, encoding, newline)\u001b[0m\n\u001b[1;32m    264\u001b[0m \u001b[0;34m\u001b[0m\u001b[0m\n\u001b[1;32m    265\u001b[0m     \u001b[0mds\u001b[0m \u001b[0;34m=\u001b[0m \u001b[0mDataSource\u001b[0m\u001b[0;34m(\u001b[0m\u001b[0mdestpath\u001b[0m\u001b[0;34m)\u001b[0m\u001b[0;34m\u001b[0m\u001b[0;34m\u001b[0m\u001b[0m\n\u001b[0;32m--> 266\u001b[0;31m     \u001b[0;32mreturn\u001b[0m \u001b[0mds\u001b[0m\u001b[0;34m.\u001b[0m\u001b[0mopen\u001b[0m\u001b[0;34m(\u001b[0m\u001b[0mpath\u001b[0m\u001b[0;34m,\u001b[0m \u001b[0mmode\u001b[0m\u001b[0;34m,\u001b[0m \u001b[0mencoding\u001b[0m\u001b[0;34m=\u001b[0m\u001b[0mencoding\u001b[0m\u001b[0;34m,\u001b[0m \u001b[0mnewline\u001b[0m\u001b[0;34m=\u001b[0m\u001b[0mnewline\u001b[0m\u001b[0;34m)\u001b[0m\u001b[0;34m\u001b[0m\u001b[0;34m\u001b[0m\u001b[0m\n\u001b[0m\u001b[1;32m    267\u001b[0m \u001b[0;34m\u001b[0m\u001b[0m\n\u001b[1;32m    268\u001b[0m \u001b[0;34m\u001b[0m\u001b[0m\n",
      "\u001b[0;32m~/.local/lib/python3.7/site-packages/numpy/lib/_datasource.py\u001b[0m in \u001b[0;36mopen\u001b[0;34m(self, path, mode, encoding, newline)\u001b[0m\n\u001b[1;32m    622\u001b[0m                                       encoding=encoding, newline=newline)\n\u001b[1;32m    623\u001b[0m         \u001b[0;32melse\u001b[0m\u001b[0;34m:\u001b[0m\u001b[0;34m\u001b[0m\u001b[0;34m\u001b[0m\u001b[0m\n\u001b[0;32m--> 624\u001b[0;31m             \u001b[0;32mraise\u001b[0m \u001b[0mIOError\u001b[0m\u001b[0;34m(\u001b[0m\u001b[0;34m\"%s not found.\"\u001b[0m \u001b[0;34m%\u001b[0m \u001b[0mpath\u001b[0m\u001b[0;34m)\u001b[0m\u001b[0;34m\u001b[0m\u001b[0;34m\u001b[0m\u001b[0m\n\u001b[0m\u001b[1;32m    625\u001b[0m \u001b[0;34m\u001b[0m\u001b[0m\n\u001b[1;32m    626\u001b[0m \u001b[0;34m\u001b[0m\u001b[0m\n",
      "\u001b[0;31mOSError\u001b[0m: words.txt not found."
     ]
    }
   ],
   "source": [
    "data = genfromtxt('words.txt')\n",
    "\n",
    "pprint(data[:30]) # Check if data has loaded correctly"
   ]
  },
  {
   "cell_type": "markdown",
   "metadata": {},
   "source": [
    "The most common word in Moby Dick is \"the\", appearing 14086 times. The next one is \"of\", 6414 times, etc."
   ]
  },
  {
   "cell_type": "markdown",
   "metadata": {
    "slideshow": {
     "slide_type": "slide"
    }
   },
   "source": [
    "## Plotting the data"
   ]
  },
  {
   "cell_type": "markdown",
   "metadata": {},
   "source": [
    "First, we plot the probability density function (pdf) with linear (red) and logarithmic (blue) bins. This is achieved with the method plot_pdf and the parameter linear_bins."
   ]
  },
  {
   "cell_type": "code",
   "execution_count": 4,
   "metadata": {
    "scrolled": false
   },
   "outputs": [
    {
     "data": {
      "text/plain": [
       "Text(0, 0.5, 'pdf $P(X)$')"
      ]
     },
     "execution_count": 4,
     "metadata": {},
     "output_type": "execute_result"
    },
    {
     "data": {
      "image/png": "[encoded data removed]",
      "text/plain": [
       "<Figure size 432x288 with 1 Axes>"
      ]
     },
     "metadata": {},
     "output_type": "display_data"
    }
   ],
   "source": [
    "fig01 = powerlaw.plot_pdf(data, color='b')\n",
    "powerlaw.plot_pdf(data, linear_bins=True, color='r', ax=fig01)\n",
    "\n",
    "fig01.set_xlabel(\"Word Frequency\")\n",
    "fig01.set_ylabel(r\"pdf $P(X)$\")"
   ]
  },
  {
   "cell_type": "markdown",
   "metadata": {},
   "source": [
    "The linear bins show a lot of noise, while logarithmic bins show a smoother tail. Usually we try to avoid using linear bins because of that. Logarithmic bins are better, but are also not optimal, as they can visually distort the data (e.g. you can change the appearance of the data by playing around with the binning)."
   ]
  },
  {
   "cell_type": "markdown",
   "metadata": {
    "slideshow": {
     "slide_type": "slide"
    }
   },
   "source": [
    "As an alternative way to do this, next we create the logarithmic bins ourselves, using np.logspace and np.histogram, without using the powerlaw library."
   ]
  },
  {
   "cell_type": "code",
   "execution_count": 5,
   "metadata": {
    "slideshow": {
     "slide_type": "-"
    }
   },
   "outputs": [
    {
     "data": {
      "image/png": "[encoded data removed]",
      "text/plain": [
       "<Figure size 432x288 with 1 Axes>"
      ]
     },
     "metadata": {},
     "output_type": "display_data"
    }
   ],
   "source": [
    "bin_edges = np.logspace(np.log10(min(data)), np.log10(max(data)), num=30)\n",
    "density, _ = np.histogram(data, bins=bin_edges, density=True)\n",
    "fig02 = plt.figure()\n",
    "plt.loglog(bin_edges[:-1], density, marker='o', linestyle='none')\n",
    "\n",
    "plt.xlabel(\"Word Frequency\")\n",
    "plt.ylabel(r\"pdf $P(X)$\")\n",
    "plt.show()"
   ]
  },
  {
   "cell_type": "markdown",
   "metadata": {
    "slideshow": {
     "slide_type": "slide"
    }
   },
   "source": [
    "Next, we plot the complementary cumulative distribution function (ccdf, red) in addition to the pdf (blue), using the methods plot_pdf and plot_ccdf. The ccdf is monotonically decreasing, less noisy than the pdf, and usually the preferred way to visualize a heavy-tailed distribution. Its slope is flatter though."
   ]
  },
  {
   "cell_type": "code",
   "execution_count": 6,
   "metadata": {},
   "outputs": [
    {
     "data": {
      "text/plain": [
       "Text(0.5, 0, 'Word Frequency x')"
      ]
     },
     "execution_count": 6,
     "metadata": {},
     "output_type": "execute_result"
    },
    {
     "data": {
      "image/png": "[encoded data removed]",
      "text/plain": [
       "<Figure size 432x288 with 1 Axes>"
      ]
     },
     "metadata": {},
     "output_type": "display_data"
    }
   ],
   "source": [
    "fig03 = powerlaw.plot_pdf(data, color='b', linewidth=2)\n",
    "powerlaw.plot_ccdf(data, color='r', linewidth=2, ax=fig03)\n",
    "\n",
    "fig03.set_ylabel(u\"pdf P(X), ccdf P(X≥x)\")\n",
    "fig03.set_xlabel(r\"Word Frequency x\")"
   ]
  },
  {
   "cell_type": "markdown",
   "metadata": {
    "slideshow": {
     "slide_type": "slide"
    }
   },
   "source": [
    "## Fitting a power law"
   ]
  },
  {
   "cell_type": "markdown",
   "metadata": {},
   "source": [
    "The class powerlaw.Fit makes a fit to the data and gives us an object with the same methods as before: plot_pdf, plot_ccdf, and more\n",
    "\n",
    "For a full description of the parameters and methods, see: http://pythonhosted.org/powerlaw/#powerlaw.Fit"
   ]
  },
  {
   "cell_type": "code",
   "execution_count": 7,
   "metadata": {},
   "outputs": [
    {
     "data": {
      "text/plain": [
       "['ccdf',\n",
       " 'cdf',\n",
       " 'distribution_compare',\n",
       " 'find_xmin',\n",
       " 'loglikelihood_ratio',\n",
       " 'nested_distribution_compare',\n",
       " 'pdf',\n",
       " 'plot_ccdf',\n",
       " 'plot_cdf',\n",
       " 'plot_pdf']"
      ]
     },
     "execution_count": 7,
     "metadata": {},
     "output_type": "execute_result"
    }
   ],
   "source": [
    "# https://stackoverflow.com/questions/1911281/how-do-i-get-list-of-methods-in-a-python-class\n",
    "[method_name for method_name in dir(powerlaw.Fit) if callable(getattr(powerlaw.Fit, method_name)) and not method_name.startswith(\"__\")]"
   ]
  },
  {
   "cell_type": "markdown",
   "metadata": {
    "slideshow": {
     "slide_type": "slide"
    }
   },
   "source": [
    "#### Estimating the exponent alpha and lower bound xmin"
   ]
  },
  {
   "cell_type": "markdown",
   "metadata": {},
   "source": [
    "We start fitting a power law. Running powerlaw.Fit gives us also a bunch of estimated parameters and data points that we can plot and investigate to see whether the power law hypothesis should be rejected or not. Let's see first all the variables that the Fit class generates:"
   ]
  },
  {
   "cell_type": "code",
   "execution_count": 8,
   "metadata": {
    "scrolled": true
   },
   "outputs": [
    {
     "name": "stderr",
     "output_type": "stream",
     "text": [
      "Calculating best minimal value for power law fit\n"
     ]
    },
    {
     "name": "stdout",
     "output_type": "stream",
     "text": [
      "{'D': 0.00922886388026034,\n",
      " 'Ds': array([0.05290169, 0.0193314 , 0.01440389, 0.01959694, 0.01560327,\n",
      "       0.0097013 , 0.00922886, 0.01085445, 0.01130217, 0.01224055,\n",
      "       0.01525731, 0.01430782, 0.01419693, 0.0149178 , 0.01645071,\n",
      "       0.01595155, 0.01672442, 0.01854686, 0.01817819, 0.01910831,\n",
      "       0.02005889, 0.02074289, 0.02321389, 0.02240454, 0.0226675 ,\n",
      "       0.02318913, 0.02431314, 0.0257915 , 0.02696975, 0.02703532,\n",
      "       0.02822474, 0.02844972, 0.02919035, 0.03013625, 0.03129383,\n",
      "       0.03199142, 0.03270331, 0.03328343, 0.03347819, 0.03434527,\n",
      "       0.03514179, 0.03594369, 0.03668967, 0.03747707, 0.0381998 ,\n",
      "       0.03896588, 0.03996783, 0.04062409, 0.04118176, 0.04224946,\n",
      "       0.04312457, 0.04464445, 0.04527924, 0.04501112, 0.0459419 ,\n",
      "       0.04639785, 0.04718085, 0.04737004, 0.04756424, 0.04739971,\n",
      "       0.04799678, 0.04740399, 0.04763428, 0.04743261, 0.04769935,\n",
      "       0.04799653, 0.04887054, 0.05043188, 0.04970314, 0.04994802,\n",
      "       0.050572  , 0.05099524, 0.05189629, 0.05232447, 0.05393259,\n",
      "       0.05491087, 0.0560219 , 0.05625941, 0.05576174, 0.05670243,\n",
      "       0.05771074, 0.05829963, 0.05963231, 0.06562226, 0.06516431,\n",
      "       0.06617772, 0.06579385, 0.0701684 , 0.07329608, 0.07318681,\n",
      "       0.07133344, 0.07127261, 0.0693875 , 0.06938247, 0.07752659,\n",
      "       0.07173895, 0.07644933, 0.07692172, 0.07511473, 0.07329158,\n",
      "       0.06842125, 0.06775499, 0.06302935, 0.06293202, 0.06510022,\n",
      "       0.0690056 , 0.06996349, 0.06865901, 0.06734592, 0.06602805,\n",
      "       0.0691666 , 0.06856361, 0.06796323, 0.06942379, 0.06828857,\n",
      "       0.06995164, 0.07173344, 0.06841571, 0.07036469, 0.06906574,\n",
      "       0.07134661, 0.07101307, 0.07352292, 0.07303801, 0.04720094,\n",
      "       0.05197301, 0.05478083, 0.05468684, 0.05462943, 0.06615169,\n",
      "       0.05493042, 0.05927028, 0.05959774, 0.05997886, 0.0649293 ,\n",
      "       0.06550909, 0.04821201, 0.04206152, 0.03918438, 0.03976843,\n",
      "       0.04041066, 0.03782558, 0.0427166 , 0.04457565, 0.03891091,\n",
      "       0.03935802, 0.04045407, 0.03946395, 0.04037566, 0.04182911,\n",
      "       0.04225853, 0.04291238, 0.04339102, 0.04364812, 0.04391313,\n",
      "       0.04457791, 0.04556012, 0.04586901, 0.04642098, 0.04675599,\n",
      "       0.04710485, 0.0475366 , 0.04829428, 0.0487095 , 0.04911852,\n",
      "       0.04949168, 0.0499687 , 0.05046926, 0.0516343 , 0.0513767 ,\n",
      "       0.05260695, 0.05397144, 0.0528695 , 0.05364674, 0.05446602,\n",
      "       0.0550712 , 0.05598079, 0.05664801, 0.05577778, 0.05683673,\n",
      "       0.05653762, 0.05771161, 0.05895032, 0.05861729, 0.05956019,\n",
      "       0.05965363, 0.06179473, 0.06298163, 0.06718131, 0.06861624,\n",
      "       0.07014092, 0.06997036, 0.06918024, 0.07098616, 0.07021246,\n",
      "       0.0722431 , 0.07296659, 0.07302461, 0.0707803 , 0.05837809,\n",
      "       0.06170519, 0.06547846, 0.07457368, 0.07134066, 0.06797572,\n",
      "       0.07293736, 0.06964646, 0.08212819, 0.07348348, 0.07285889,\n",
      "       0.07612807, 0.07335558, 0.07196583, 0.07485859, 0.08227548,\n",
      "       0.07325543, 0.07439985, 0.07628492, 0.07487237, 0.07833289,\n",
      "       0.0803415 , 0.08304225, 0.07969733, 0.09793209, 0.09050927,\n",
      "       0.08510639, 0.08753567, 0.09231178, 0.09428462, 0.09886008,\n",
      "       0.10512901, 0.10778641, 0.11530912, 0.12308788, 0.12544196,\n",
      "       0.11873888, 0.12749992, 0.13898411, 0.1118207 , 0.11832268,\n",
      "       0.1304963 , 0.14500218, 0.11236592, 0.11061439, 0.1162865 ,\n",
      "       0.09561709, 0.10342099, 0.11490002, 0.12953211, 0.13933765,\n",
      "       0.13248409, 0.14441197, 0.10991679, 0.11911392, 0.13440083,\n",
      "       0.16319142, 0.15059134, 0.16207959, 0.16573883, 0.17405755,\n",
      "       0.18484882, 0.19920143, 0.21727051, 0.22724254, 0.25995253,\n",
      "       0.26634075, 0.16880768, 0.19290884, 0.25667747, 0.28248588,\n",
      "       0.36462505]),\n",
      " 'alpha': 1.9501572269094178,\n",
      " 'alphas': array([1.65513313, 1.82288242, 1.8792077 , 1.89820982, 1.92096954,\n",
      "       1.93938711, 1.95015723, 1.95661417, 1.95393463, 1.95381938,\n",
      "       1.95880045, 1.95462456, 1.94579641, 1.94291505, 1.94664392,\n",
      "       1.93442151, 1.932913  , 1.93962033, 1.92896114, 1.92904923,\n",
      "       1.92932588, 1.92743381, 1.94058729, 1.9253165 , 1.91988973,\n",
      "       1.91690311, 1.91958667, 1.92522732, 1.9265391 , 1.92041008,\n",
      "       1.92432283, 1.91666167, 1.9155033 , 1.91722931, 1.92230163,\n",
      "       1.91993913, 1.91769236, 1.91232192, 1.89500108, 1.8983424 ,\n",
      "       1.8990959 , 1.90078041, 1.88844801, 1.88601361, 1.88850972,\n",
      "       1.88838146, 1.88138126, 1.88367023, 1.88753751, 1.88235016,\n",
      "       1.88065021, 1.87157853, 1.87282487, 1.88282767, 1.88109293,\n",
      "       1.8835305 , 1.88317953, 1.88725315, 1.89105984, 1.8971275 ,\n",
      "       1.89789481, 1.90609301, 1.90894606, 1.91419813, 1.91655352,\n",
      "       1.9186161 , 1.917582  , 1.91329343, 1.91997401, 1.92657587,\n",
      "       1.92719048, 1.93048195, 1.92750934, 1.93023721, 1.92032455,\n",
      "       1.91917512, 1.91769319, 1.91909738, 1.92679686, 1.92460632,\n",
      "       1.92207306, 1.92256844, 1.91941861, 1.90557207, 1.90846866,\n",
      "       1.90771259, 1.9102741 , 1.90190967, 1.89671138, 1.89849625,\n",
      "       1.90384902, 1.90542721, 1.91064508, 1.91201269, 1.89781469,\n",
      "       1.91105374, 1.90382977, 1.90423939, 1.90853612, 1.91279085,\n",
      "       1.92944723, 1.93360433, 1.95452738, 1.95825976, 1.95332055,\n",
      "       1.94361339, 1.94257298, 1.94920622, 1.95562913, 1.96183733,\n",
      "       1.95528737, 1.95811927, 1.96089426, 1.95870114, 1.96376752,\n",
      "       1.96120471, 1.95846595, 1.96791676, 1.96487575, 1.97055703,\n",
      "       1.96702605, 1.9686842 , 1.96486569, 1.96765078, 2.02471584,\n",
      "       2.01425921, 2.01105883, 2.01183122, 2.01252859, 1.99478102,\n",
      "       2.01450064, 2.00841095, 2.00848447, 2.00847833, 2.00194919,\n",
      "       2.00170203, 2.03251851, 2.04474774, 2.0505829 , 2.04999003,\n",
      "       2.04931146, 2.05479531, 2.04679856, 2.04461625, 2.0554824 ,\n",
      "       2.05417882, 2.05278505, 2.05724443, 2.07168631, 2.09170297,\n",
      "       2.08753808, 2.08049986, 2.07536338, 2.07266942, 2.06987678,\n",
      "       2.08350085, 2.09927615, 2.09598644, 2.10904283, 2.10550189,\n",
      "       2.10185611, 2.10885712, 2.09566046, 2.0915758 , 2.09252763,\n",
      "       2.09845039, 2.09399003, 2.08942158, 2.07503775, 2.1043527 ,\n",
      "       2.0939421 , 2.08308755, 2.12011842, 2.11422805, 2.10822269,\n",
      "       2.10674018, 2.10048063, 2.09862472, 2.11922318, 2.11243902,\n",
      "       2.12344004, 2.11631409, 2.10906884, 2.11903836, 2.11575017,\n",
      "       2.12081046, 2.11306772, 2.10892914, 2.08799926, 2.08327022,\n",
      "       2.07832991, 2.08455147, 2.09425075, 2.0885497 , 2.0974593 ,\n",
      "       2.09124594, 2.09204557, 2.09609812, 2.11055433, 2.16909067,\n",
      "       2.15742126, 2.14561743, 2.11812635, 2.13309431, 2.14768791,\n",
      "       2.13466822, 2.14802742, 2.1174783 , 2.14461027, 2.14908248,\n",
      "       2.14357577, 2.15306005, 2.15886244, 2.154918  , 2.14156721,\n",
      "       2.17781341, 2.18102664, 2.16320417, 2.22926513, 2.21304558,\n",
      "       2.20415317, 2.26850973, 2.25504808, 2.2864411 , 2.27141101,\n",
      "       2.25307709, 2.24749326, 2.2255022 , 2.22553876, 2.20976807,\n",
      "       2.18629936, 2.18501265, 2.16047541, 2.13770889, 2.140653  ,\n",
      "       2.17857322, 2.15854781, 2.13201806, 2.22413972, 2.21495074,\n",
      "       2.19284975, 2.16782216, 2.24680008, 2.27287244, 2.25503715,\n",
      "       2.43729768, 2.40875862, 2.36530676, 2.31403631, 2.29333118,\n",
      "       2.34135255, 2.32021015, 2.46094383, 2.50543972, 2.62181491,\n",
      "       2.67910613, 2.61731197, 2.6213203 , 2.52566427, 2.45065496,\n",
      "       2.37427595, 2.30442434, 2.31087654, 2.54636973, 2.46502207,\n",
      "       2.61564306, 3.52307691, 3.69322593, 3.25000513, 4.59047625,\n",
      "       3.54176692]),\n",
      " 'data': array([7.0000e+00, 7.0000e+00, 7.0000e+00, ..., 6.2600e+03, 6.4140e+03,\n",
      "       1.4086e+04]),\n",
      " 'data_original': array([1.4086e+04, 6.4140e+03, 6.2600e+03, ..., 1.0000e+00, 1.0000e+00,\n",
      "       1.0000e+00]),\n",
      " 'discrete': True,\n",
      " 'discrete_approximation': 'round',\n",
      " 'estimate_discrete': True,\n",
      " 'fit_method': 'Likelihood',\n",
      " 'fitting_cdf': array([0.        , 0.12204192, 0.2234618 , 0.30189317, 0.36240703,\n",
      "       0.41818796, 0.46754564, 0.50642326, 0.53684922, 0.57065585,\n",
      "       0.59567275, 0.61460446, 0.6382691 , 0.65551048, 0.67106153,\n",
      "       0.68593644, 0.69472617, 0.71162948, 0.72413793, 0.73495605,\n",
      "       0.74340771, 0.7505071 , 0.75828262, 0.76741041, 0.77349561,\n",
      "       0.78194726, 0.78837052, 0.79377958, 0.79817444, 0.80392157,\n",
      "       0.80933063, 0.81507776, 0.82285328, 0.82623394, 0.82995267,\n",
      "       0.83333333, 0.83908046, 0.84279919, 0.84550372, 0.84854632,\n",
      "       0.85260311, 0.85496957, 0.85699797, 0.86037863, 0.86308316,\n",
      "       0.86680189, 0.86883029, 0.86950642, 0.87187289, 0.87356322,\n",
      "       0.87559162, 0.87694388, 0.87829615, 0.87931034, 0.88100068,\n",
      "       0.88167681, 0.88302907, 0.88404327, 0.88539554, 0.8867478 ,\n",
      "       0.88843813, 0.89046653, 0.89114266, 0.8918188 , 0.89317106,\n",
      "       0.89418526, 0.89587559, 0.89688979, 0.89925625, 0.90060852,\n",
      "       0.90196078, 0.90297498, 0.90331305, 0.90466531, 0.90601758,\n",
      "       0.90703178, 0.90838404, 0.91075051, 0.91142664, 0.91244084,\n",
      "       0.91311697, 0.9148073 , 0.91615957, 0.9168357 , 0.91717377,\n",
      "       0.9178499 , 0.91818796, 0.9188641 , 0.92089249, 0.92123056,\n",
      "       0.92258283, 0.92325896, 0.92359703, 0.92393509, 0.92461122,\n",
      "       0.92494929, 0.92528736, 0.92630156, 0.92731575, 0.92866802,\n",
      "       0.92934415, 0.93002028, 0.93069642, 0.93137255, 0.93238675,\n",
      "       0.93272481, 0.93306288, 0.93373901, 0.93441515, 0.93509128,\n",
      "       0.93576741, 0.93610548, 0.93678161, 0.93779581, 0.93847194,\n",
      "       0.93881001, 0.93948614, 0.94016227, 0.94050034, 0.94151454,\n",
      "       0.9428668 , 0.94320487, 0.94354293, 0.9448952 , 0.94523327,\n",
      "       0.9459094 , 0.94624746, 0.94658553, 0.94726166, 0.94759973,\n",
      "       0.9479378 , 0.94827586, 0.94861393, 0.94895199, 0.94929006,\n",
      "       0.94962813, 0.95030426, 0.95098039, 0.95131846, 0.95165652,\n",
      "       0.95199459, 0.95233266, 0.95300879, 0.95368492, 0.95436105,\n",
      "       0.95537525, 0.95605139, 0.95638945, 0.95672752, 0.95706558,\n",
      "       0.95774172, 0.95807978, 0.95841785, 0.95875592, 0.95909398,\n",
      "       0.95943205, 0.96010818, 0.96044625, 0.96078431, 0.96112238,\n",
      "       0.96146045, 0.96179851, 0.96247465, 0.96281271, 0.96348884,\n",
      "       0.96416498, 0.96450304, 0.96484111, 0.96517918, 0.96551724,\n",
      "       0.96585531, 0.96619337, 0.96653144, 0.96686951, 0.96720757,\n",
      "       0.96754564, 0.96788371, 0.96822177, 0.96855984, 0.9688979 ,\n",
      "       0.96957404, 0.9699121 , 0.97058824, 0.9709263 , 0.97126437,\n",
      "       0.97160243, 0.9719405 , 0.97227857, 0.97261663, 0.9729547 ,\n",
      "       0.97329277, 0.97363083, 0.9739689 , 0.97430696, 0.97464503,\n",
      "       0.9749831 , 0.97565923, 0.9759973 , 0.97633536, 0.97667343,\n",
      "       0.97701149, 0.97768763, 0.97802569, 0.97836376, 0.97870183,\n",
      "       0.97903989, 0.97937796, 0.97971602, 0.98005409, 0.98039216,\n",
      "       0.98073022, 0.98106829, 0.98140636, 0.98208249, 0.98242055,\n",
      "       0.98275862, 0.98309669, 0.98343475, 0.98377282, 0.98411089,\n",
      "       0.98444895, 0.98478702, 0.98512508, 0.98546315, 0.98580122,\n",
      "       0.98613928, 0.98647735, 0.98681542, 0.98715348, 0.98749155,\n",
      "       0.98782961, 0.98816768, 0.98850575, 0.98884381, 0.98918188,\n",
      "       0.98951995, 0.98985801, 0.99019608, 0.99053414, 0.99087221,\n",
      "       0.99121028, 0.99154834, 0.99188641, 0.99222448, 0.99256254,\n",
      "       0.99290061, 0.99323867, 0.99357674, 0.99391481, 0.99425287,\n",
      "       0.99459094, 0.99492901, 0.99526707, 0.99560514, 0.9959432 ,\n",
      "       0.99628127, 0.99661934, 0.9969574 , 0.99729547, 0.99763354,\n",
      "       0.9979716 , 0.99830967, 0.99864773, 0.9989858 , 0.99932387,\n",
      "       0.99966193]),\n",
      " 'fitting_cdf_bins': array([7.0000e+00, 8.0000e+00, 9.0000e+00, 1.0000e+01, 1.1000e+01,\n",
      "       1.2000e+01, 1.3000e+01, 1.4000e+01, 1.5000e+01, 1.6000e+01,\n",
      "       1.7000e+01, 1.8000e+01, 1.9000e+01, 2.0000e+01, 2.1000e+01,\n",
      "       2.2000e+01, 2.3000e+01, 2.4000e+01, 2.5000e+01, 2.6000e+01,\n",
      "       2.7000e+01, 2.8000e+01, 2.9000e+01, 3.0000e+01, 3.1000e+01,\n",
      "       3.2000e+01, 3.3000e+01, 3.4000e+01, 3.5000e+01, 3.6000e+01,\n",
      "       3.7000e+01, 3.8000e+01, 3.9000e+01, 4.0000e+01, 4.1000e+01,\n",
      "       4.2000e+01, 4.3000e+01, 4.4000e+01, 4.5000e+01, 4.6000e+01,\n",
      "       4.7000e+01, 4.8000e+01, 4.9000e+01, 5.0000e+01, 5.1000e+01,\n",
      "       5.2000e+01, 5.3000e+01, 5.4000e+01, 5.5000e+01, 5.6000e+01,\n",
      "       5.7000e+01, 5.8000e+01, 5.9000e+01, 6.0000e+01, 6.1000e+01,\n",
      "       6.2000e+01, 6.3000e+01, 6.4000e+01, 6.5000e+01, 6.6000e+01,\n",
      "       6.7000e+01, 6.8000e+01, 6.9000e+01, 7.0000e+01, 7.1000e+01,\n",
      "       7.2000e+01, 7.3000e+01, 7.4000e+01, 7.5000e+01, 7.6000e+01,\n",
      "       7.7000e+01, 7.8000e+01, 7.9000e+01, 8.0000e+01, 8.1000e+01,\n",
      "       8.2000e+01, 8.3000e+01, 8.4000e+01, 8.5000e+01, 8.6000e+01,\n",
      "       8.7000e+01, 8.8000e+01, 8.9000e+01, 9.0000e+01, 9.1000e+01,\n",
      "       9.2000e+01, 9.3000e+01, 9.4000e+01, 9.5000e+01, 9.7000e+01,\n",
      "       9.8000e+01, 9.9000e+01, 1.0000e+02, 1.0100e+02, 1.0400e+02,\n",
      "       1.0500e+02, 1.0800e+02, 1.1000e+02, 1.1100e+02, 1.1200e+02,\n",
      "       1.1300e+02, 1.1500e+02, 1.1700e+02, 1.1900e+02, 1.2000e+02,\n",
      "       1.2100e+02, 1.2200e+02, 1.2300e+02, 1.2500e+02, 1.2600e+02,\n",
      "       1.2700e+02, 1.2900e+02, 1.3000e+02, 1.3300e+02, 1.3400e+02,\n",
      "       1.3500e+02, 1.3600e+02, 1.3800e+02, 1.4700e+02, 1.4800e+02,\n",
      "       1.5100e+02, 1.5200e+02, 1.5300e+02, 1.5400e+02, 1.5800e+02,\n",
      "       1.5900e+02, 1.6000e+02, 1.6100e+02, 1.6200e+02, 1.6300e+02,\n",
      "       1.6900e+02, 1.7200e+02, 1.7400e+02, 1.7500e+02, 1.7600e+02,\n",
      "       1.7800e+02, 1.7900e+02, 1.8100e+02, 1.8400e+02, 1.8500e+02,\n",
      "       1.8600e+02, 1.8800e+02, 1.9300e+02, 1.9900e+02, 2.0100e+02,\n",
      "       2.0400e+02, 2.0600e+02, 2.0700e+02, 2.0800e+02, 2.1200e+02,\n",
      "       2.1800e+02, 2.1900e+02, 2.2300e+02, 2.2400e+02, 2.2500e+02,\n",
      "       2.2800e+02, 2.2900e+02, 2.3000e+02, 2.3200e+02, 2.3500e+02,\n",
      "       2.3600e+02, 2.3700e+02, 2.3800e+02, 2.4600e+02, 2.4800e+02,\n",
      "       2.5000e+02, 2.6000e+02, 2.6100e+02, 2.6200e+02, 2.6400e+02,\n",
      "       2.6500e+02, 2.6700e+02, 2.7400e+02, 2.7500e+02, 2.8000e+02,\n",
      "       2.8100e+02, 2.8200e+02, 2.8700e+02, 2.8900e+02, 2.9300e+02,\n",
      "       2.9700e+02, 2.9900e+02, 3.0000e+02, 3.0200e+02, 3.0400e+02,\n",
      "       3.0900e+02, 3.1500e+02, 3.1700e+02, 3.2300e+02, 3.2500e+02,\n",
      "       3.2900e+02, 3.3400e+02, 3.4200e+02, 3.6200e+02, 3.6300e+02,\n",
      "       3.6400e+02, 3.6500e+02, 3.7400e+02, 3.8300e+02, 3.8400e+02,\n",
      "       3.9300e+02, 3.9400e+02, 4.0800e+02, 4.1500e+02, 4.1900e+02,\n",
      "       4.2800e+02, 4.3600e+02, 4.4100e+02, 4.4300e+02, 4.6200e+02,\n",
      "       4.7000e+02, 4.7100e+02, 5.0100e+02, 5.1100e+02, 5.1600e+02,\n",
      "       5.4700e+02, 5.5100e+02, 5.7100e+02, 5.7500e+02, 5.7800e+02,\n",
      "       5.8600e+02, 5.8800e+02, 5.9900e+02, 6.0400e+02, 6.0600e+02,\n",
      "       6.1800e+02, 6.2000e+02, 6.2300e+02, 6.3900e+02, 6.7300e+02,\n",
      "       6.7900e+02, 6.8200e+02, 7.4800e+02, 7.6200e+02, 7.7000e+02,\n",
      "       7.7700e+02, 8.4400e+02, 8.8200e+02, 8.9700e+02, 1.0220e+03,\n",
      "       1.0350e+03, 1.0410e+03, 1.0430e+03, 1.0650e+03, 1.1340e+03,\n",
      "       1.1610e+03, 1.2970e+03, 1.3720e+03, 1.4930e+03, 1.5810e+03,\n",
      "       1.6040e+03, 1.6740e+03, 1.6830e+03, 1.7110e+03, 1.7440e+03,\n",
      "       1.7920e+03, 1.9420e+03, 2.3740e+03, 2.4830e+03, 2.9170e+03,\n",
      "       4.0400e+03, 4.4840e+03, 4.5730e+03, 6.2600e+03, 6.4140e+03,\n",
      "       1.4086e+04]),\n",
      " 'fixed_xmax': False,\n",
      " 'fixed_xmin': False,\n",
      " 'given_xmax': None,\n",
      " 'given_xmin': None,\n",
      " 'in_ranges': array([ True,  True,  True,  True,  True,  True,  True,  True,  True,\n",
      "        True,  True,  True,  True,  True,  True,  True,  True,  True,\n",
      "        True,  True,  True,  True,  True,  True,  True,  True,  True,\n",
      "        True,  True,  True,  True,  True,  True,  True,  True,  True,\n",
      "        True,  True,  True,  True,  True,  True,  True,  True,  True,\n",
      "        True,  True,  True,  True,  True,  True,  True,  True,  True,\n",
      "        True,  True,  True,  True,  True,  True,  True,  True,  True,\n",
      "        True,  True,  True,  True,  True,  True,  True,  True,  True,\n",
      "        True,  True,  True,  True,  True,  True,  True,  True,  True,\n",
      "        True,  True,  True,  True,  True,  True,  True,  True,  True,\n",
      "        True,  True,  True,  True,  True,  True,  True,  True,  True,\n",
      "        True,  True,  True,  True,  True,  True,  True,  True,  True,\n",
      "        True,  True,  True,  True,  True,  True,  True,  True,  True,\n",
      "        True,  True,  True,  True,  True,  True,  True,  True,  True,\n",
      "        True,  True,  True,  True,  True,  True,  True,  True,  True,\n",
      "        True,  True,  True,  True,  True,  True,  True,  True,  True,\n",
      "        True,  True,  True,  True,  True,  True,  True,  True,  True,\n",
      "        True,  True,  True,  True,  True,  True,  True,  True,  True,\n",
      "        True,  True,  True,  True,  True,  True,  True,  True,  True,\n",
      "        True,  True,  True,  True,  True,  True,  True,  True,  True,\n",
      "        True,  True,  True,  True,  True,  True,  True,  True,  True,\n",
      "        True,  True,  True,  True,  True,  True,  True,  True,  True,\n",
      "        True,  True,  True,  True,  True,  True,  True,  True,  True,\n",
      "        True,  True,  True,  True,  True,  True,  True,  True,  True,\n",
      "        True,  True,  True,  True,  True,  True,  True,  True,  True,\n",
      "        True,  True,  True,  True,  True,  True,  True,  True,  True,\n",
      "        True,  True,  True,  True,  True,  True,  True,  True,  True,\n",
      "        True,  True,  True,  True,  True,  True,  True,  True,  True,\n",
      "        True,  True,  True,  True,  True,  True,  True,  True,  True,\n",
      "        True,  True,  True,  True,  True,  True,  True,  True,  True,\n",
      "        True]),\n",
      " 'n': 2958.0,\n",
      " 'n_tail': 2958.0,\n",
      " 'noise_flag': False,\n",
      " 'parameter_range': None,\n",
      " 'sigma': 0.017470140234510236,\n",
      " 'sigma_threshold': None,\n",
      " 'sigmas': array([0.00477108, 0.00835769, 0.01081493, 0.01272809, 0.0144645 ,\n",
      "       0.01604677, 0.01747014, 0.01877158, 0.0199039 , 0.02098969,\n",
      "       0.02207788, 0.02301135, 0.02383183, 0.02467721, 0.02557563,\n",
      "       0.0262205 , 0.02697588, 0.02782915, 0.02839917, 0.02910393,\n",
      "       0.02979282, 0.03042812, 0.03130079, 0.03168223, 0.03220258,\n",
      "       0.03274654, 0.03337888, 0.03405809, 0.0346506 , 0.03509031,\n",
      "       0.03570971, 0.03609352, 0.03659087, 0.03713753, 0.03774729,\n",
      "       0.03819839, 0.03864182, 0.03900807, 0.0390983 , 0.03962418,\n",
      "       0.0400887 , 0.04056911, 0.04072195, 0.0410879 , 0.04156273,\n",
      "       0.04197208, 0.04221051, 0.042664  , 0.04315355, 0.04341761,\n",
      "       0.04375986, 0.04390949, 0.04431097, 0.04493475, 0.0452587 ,\n",
      "       0.04568627, 0.04603892, 0.0465047 , 0.04696298, 0.04748102,\n",
      "       0.04785795, 0.04843271, 0.04886524, 0.04936206, 0.04978035,\n",
      "       0.05018936, 0.05051123, 0.05073852, 0.05126815, 0.05179717,\n",
      "       0.05215854, 0.05259395, 0.05284975, 0.05326523, 0.05331297,\n",
      "       0.05360738, 0.0538888 , 0.0542526 , 0.05480265, 0.0550595 ,\n",
      "       0.05530227, 0.05563297, 0.0558507 , 0.05573411, 0.05612538,\n",
      "       0.05640252, 0.05678134, 0.05681497, 0.05694123, 0.05728603,\n",
      "       0.0577448 , 0.05808318, 0.05853848, 0.05887017, 0.05869198,\n",
      "       0.05968511, 0.05972675, 0.06001648, 0.06043492, 0.06085272,\n",
      "       0.06224039, 0.06265942, 0.06420846, 0.06490154, 0.06501592,\n",
      "       0.06496102, 0.06519914, 0.06597439, 0.06674403, 0.06750775,\n",
      "       0.06754902, 0.06791927, 0.06828778, 0.06847865, 0.06919448,\n",
      "       0.06936897, 0.06953443, 0.07040558, 0.0705587 , 0.07155041,\n",
      "       0.07168074, 0.07200173, 0.07211745, 0.07273309, 0.07724086,\n",
      "       0.0771127 , 0.07777376, 0.07806447, 0.07835181, 0.07791726,\n",
      "       0.0797067 , 0.07972189, 0.07997802, 0.08023023, 0.08022014,\n",
      "       0.08045864, 0.08320271, 0.08446285, 0.08521353, 0.08544698,\n",
      "       0.08567592, 0.0864122 , 0.08633849, 0.08675066, 0.08795687,\n",
      "       0.08815486, 0.08834776, 0.08903604, 0.09089925, 0.09327048,\n",
      "       0.09360038, 0.09404544, 0.09431561, 0.09444328, 0.09456464,\n",
      "       0.09614515, 0.09832225, 0.09842249, 0.09999902, 0.10008744,\n",
      "       0.10016874, 0.10122434, 0.10086372, 0.10091622, 0.10143864,\n",
      "       0.10243103, 0.10246155, 0.10248416, 0.10203807, 0.1052959 ,\n",
      "       0.10526463, 0.10519876, 0.10931236, 0.10925905, 0.10919643,\n",
      "       0.10958361, 0.10950192, 0.10986247, 0.11248616, 0.11237331,\n",
      "       0.11406805, 0.11393333, 0.11378806, 0.11541999, 0.1156979 ,\n",
      "       0.11685257, 0.11732764, 0.11754625, 0.11664576, 0.11681203,\n",
      "       0.1169613 , 0.11833427, 0.12010962, 0.1202102 , 0.12193992,\n",
      "       0.12200501, 0.12286473, 0.12410867, 0.12655941, 0.1341039 ,\n",
      "       0.13364749, 0.13317532, 0.13177245, 0.13447355, 0.13717494,\n",
      "       0.136598  , 0.13921877, 0.13755207, 0.14197143, 0.14363531,\n",
      "       0.144077  , 0.14643877, 0.14837713, 0.14909927, 0.14861939,\n",
      "       0.15465448, 0.1564308 , 0.1554397 , 0.16575408, 0.16662463,\n",
      "       0.166986  , 0.17762689, 0.1774906 , 0.1837773 , 0.18351237,\n",
      "       0.18278008, 0.18393285, 0.18268708, 0.18475692, 0.1844879 ,\n",
      "       0.18304997, 0.18506788, 0.18348727, 0.18217922, 0.18503835,\n",
      "       0.19375624, 0.1930913 , 0.19134598, 0.20993823, 0.21149578,\n",
      "       0.21086804, 0.20974705, 0.22763351, 0.23636648, 0.23717973,\n",
      "       0.27660807, 0.2762803 , 0.27306135, 0.26822654, 0.26967819,\n",
      "       0.28597733, 0.28809347, 0.32667697, 0.34537156, 0.38226544,\n",
      "       0.40724305, 0.40432799, 0.4186231 , 0.40775093, 0.40233929,\n",
      "       0.39671929, 0.39329874, 0.41453556, 0.51545658, 0.51796352,\n",
      "       0.61065568, 1.03004184, 1.20444725, 1.12500257, 2.07296243,\n",
      "       1.79730062]),\n",
      " 'supported_distributions': {'exponential': <class 'powerlaw.Exponential'>,\n",
      "                             'lognormal': <class 'powerlaw.Lognormal'>,\n",
      "                             'lognormal_positive': <class 'powerlaw.Lognormal_Positive'>,\n",
      "                             'power_law': <class 'powerlaw.Power_Law'>,\n",
      "                             'stretched_exponential': <class 'powerlaw.Stretched_Exponential'>,\n",
      "                             'truncated_power_law': <class 'powerlaw.Truncated_Power_Law'>},\n",
      " 'xmax': None,\n",
      " 'xmin': 7.0,\n",
      " 'xmin_distance': 'D',\n",
      " 'xmins': array([1.000e+00, 2.000e+00, 3.000e+00, 4.000e+00, 5.000e+00, 6.000e+00,\n",
      "       7.000e+00, 8.000e+00, 9.000e+00, 1.000e+01, 1.100e+01, 1.200e+01,\n",
      "       1.300e+01, 1.400e+01, 1.500e+01, 1.600e+01, 1.700e+01, 1.800e+01,\n",
      "       1.900e+01, 2.000e+01, 2.100e+01, 2.200e+01, 2.300e+01, 2.400e+01,\n",
      "       2.500e+01, 2.600e+01, 2.700e+01, 2.800e+01, 2.900e+01, 3.000e+01,\n",
      "       3.100e+01, 3.200e+01, 3.300e+01, 3.400e+01, 3.500e+01, 3.600e+01,\n",
      "       3.700e+01, 3.800e+01, 3.900e+01, 4.000e+01, 4.100e+01, 4.200e+01,\n",
      "       4.300e+01, 4.400e+01, 4.500e+01, 4.600e+01, 4.700e+01, 4.800e+01,\n",
      "       4.900e+01, 5.000e+01, 5.100e+01, 5.200e+01, 5.300e+01, 5.400e+01,\n",
      "       5.500e+01, 5.600e+01, 5.700e+01, 5.800e+01, 5.900e+01, 6.000e+01,\n",
      "       6.100e+01, 6.200e+01, 6.300e+01, 6.400e+01, 6.500e+01, 6.600e+01,\n",
      "       6.700e+01, 6.800e+01, 6.900e+01, 7.000e+01, 7.100e+01, 7.200e+01,\n",
      "       7.300e+01, 7.400e+01, 7.500e+01, 7.600e+01, 7.700e+01, 7.800e+01,\n",
      "       7.900e+01, 8.000e+01, 8.100e+01, 8.200e+01, 8.300e+01, 8.400e+01,\n",
      "       8.500e+01, 8.600e+01, 8.700e+01, 8.800e+01, 8.900e+01, 9.000e+01,\n",
      "       9.100e+01, 9.200e+01, 9.300e+01, 9.400e+01, 9.500e+01, 9.700e+01,\n",
      "       9.800e+01, 9.900e+01, 1.000e+02, 1.010e+02, 1.040e+02, 1.050e+02,\n",
      "       1.080e+02, 1.100e+02, 1.110e+02, 1.120e+02, 1.130e+02, 1.150e+02,\n",
      "       1.170e+02, 1.190e+02, 1.200e+02, 1.210e+02, 1.220e+02, 1.230e+02,\n",
      "       1.250e+02, 1.260e+02, 1.270e+02, 1.290e+02, 1.300e+02, 1.330e+02,\n",
      "       1.340e+02, 1.350e+02, 1.360e+02, 1.380e+02, 1.470e+02, 1.480e+02,\n",
      "       1.510e+02, 1.520e+02, 1.530e+02, 1.540e+02, 1.580e+02, 1.590e+02,\n",
      "       1.600e+02, 1.610e+02, 1.620e+02, 1.630e+02, 1.690e+02, 1.720e+02,\n",
      "       1.740e+02, 1.750e+02, 1.760e+02, 1.780e+02, 1.790e+02, 1.810e+02,\n",
      "       1.840e+02, 1.850e+02, 1.860e+02, 1.880e+02, 1.930e+02, 1.990e+02,\n",
      "       2.010e+02, 2.040e+02, 2.060e+02, 2.070e+02, 2.080e+02, 2.120e+02,\n",
      "       2.180e+02, 2.190e+02, 2.230e+02, 2.240e+02, 2.250e+02, 2.280e+02,\n",
      "       2.290e+02, 2.300e+02, 2.320e+02, 2.350e+02, 2.360e+02, 2.370e+02,\n",
      "       2.380e+02, 2.460e+02, 2.480e+02, 2.500e+02, 2.600e+02, 2.610e+02,\n",
      "       2.620e+02, 2.640e+02, 2.650e+02, 2.670e+02, 2.740e+02, 2.750e+02,\n",
      "       2.800e+02, 2.810e+02, 2.820e+02, 2.870e+02, 2.890e+02, 2.930e+02,\n",
      "       2.970e+02, 2.990e+02, 3.000e+02, 3.020e+02, 3.040e+02, 3.090e+02,\n",
      "       3.150e+02, 3.170e+02, 3.230e+02, 3.250e+02, 3.290e+02, 3.340e+02,\n",
      "       3.420e+02, 3.620e+02, 3.630e+02, 3.640e+02, 3.650e+02, 3.740e+02,\n",
      "       3.830e+02, 3.840e+02, 3.930e+02, 3.940e+02, 4.080e+02, 4.150e+02,\n",
      "       4.190e+02, 4.280e+02, 4.360e+02, 4.410e+02, 4.430e+02, 4.620e+02,\n",
      "       4.700e+02, 4.710e+02, 5.010e+02, 5.110e+02, 5.160e+02, 5.470e+02,\n",
      "       5.510e+02, 5.710e+02, 5.750e+02, 5.780e+02, 5.860e+02, 5.880e+02,\n",
      "       5.990e+02, 6.040e+02, 6.060e+02, 6.180e+02, 6.200e+02, 6.230e+02,\n",
      "       6.390e+02, 6.730e+02, 6.790e+02, 6.820e+02, 7.480e+02, 7.620e+02,\n",
      "       7.700e+02, 7.770e+02, 8.440e+02, 8.820e+02, 8.970e+02, 1.022e+03,\n",
      "       1.035e+03, 1.041e+03, 1.043e+03, 1.065e+03, 1.134e+03, 1.161e+03,\n",
      "       1.297e+03, 1.372e+03, 1.493e+03, 1.581e+03, 1.604e+03, 1.674e+03,\n",
      "       1.683e+03, 1.711e+03, 1.744e+03, 1.792e+03, 1.942e+03, 2.374e+03,\n",
      "       2.483e+03, 2.917e+03, 4.040e+03, 4.484e+03, 4.573e+03, 6.260e+03,\n",
      "       6.414e+03])}\n"
     ]
    }
   ],
   "source": [
    "fit = powerlaw.Fit(data, discrete=True)\n",
    "pprint(vars(fit))"
   ]
  },
  {
   "cell_type": "markdown",
   "metadata": {
    "slideshow": {
     "slide_type": "slide"
    }
   },
   "source": [
    "Now let's use the data and plot the pdf and ccdf together with their fits:"
   ]
  },
  {
   "cell_type": "code",
   "execution_count": 9,
   "metadata": {},
   "outputs": [
    {
     "data": {
      "text/plain": [
       "Text(0.5, 0, 'Word Frequency')"
      ]
     },
     "execution_count": 9,
     "metadata": {},
     "output_type": "execute_result"
    },
    {
     "data": {
      "image/png": "[encoded data removed]",
      "text/plain": [
       "<Figure size 432x288 with 1 Axes>"
      ]
     },
     "metadata": {},
     "output_type": "display_data"
    }
   ],
   "source": [
    "fig04 = fit.plot_pdf(color='b', linewidth=2)\n",
    "fit.power_law.plot_pdf(color='b', linestyle='--', ax=fig04)\n",
    "fit.plot_ccdf(color='r', linewidth=2, ax=fig04)\n",
    "fit.power_law.plot_ccdf(color='r', linestyle='--', ax=fig04)\n",
    "\n",
    "fig04.set_ylabel(u\"pdf P(X), ccdf P(X≥x)\")\n",
    "fig04.set_xlabel(r\"Word Frequency\")"
   ]
  },
  {
   "cell_type": "markdown",
   "metadata": {},
   "source": [
    "Looks pretty good. The relevant fitting parameters are:"
   ]
  },
  {
   "cell_type": "markdown",
   "metadata": {},
   "source": [
    "Giulia comment: but we are not plotting the original data! See below:"
   ]
  },
  {
   "cell_type": "code",
   "execution_count": 25,
   "metadata": {},
   "outputs": [
    {
     "data": {
      "image/png": "[encoded data removed]",
      "text/plain": [
       "<Figure size 432x288 with 1 Axes>"
      ]
     },
     "metadata": {},
     "output_type": "display_data"
    }
   ],
   "source": [
    "fig05 = powerlaw.plot_ccdf(data, color='k', linewidth=2, label='ccdf')\n",
    "fit.plot_ccdf(color='r', linewidth=2, label='ccdf from fit function', ax=fig05)\n",
    "fit.power_law.plot_ccdf(color='r', linestyle='--',label='fit', ax=fig05)\n",
    "plt.legend(loc='lower left')\n",
    "#plt.savefig('testMobyDick.png')"
   ]
  },
  {
   "cell_type": "code",
   "execution_count": 10,
   "metadata": {
    "scrolled": true
   },
   "outputs": [
    {
     "name": "stdout",
     "output_type": "stream",
     "text": [
      "alpha ± sigma: 1.95 ± 0.017\n",
      "xmin: 7.0\n"
     ]
    }
   ],
   "source": [
    "print(\"alpha ± sigma: \" + str(round(fit.alpha, 3)) +\" ± \"+str(round(fit.sigma, 3)))\n",
    "print(\"xmin: \" + str(round(fit.xmin)))"
   ]
  },
  {
   "cell_type": "markdown",
   "metadata": {
    "slideshow": {
     "slide_type": "slide"
    }
   },
   "source": [
    "How is xmin determined? By doing fits for all possible x values, and taking xmin where the KS-distance D is minimal. This information is contained in the powerlaw.Fit object, which we can visualize too. \n",
    "\n",
    "Just for illustration, the next figure shows our attempt to fit the whole data (green curves): apparently, the fit looks really worse than fitting only the tail that starts at xmin=7 (blue dashed line)"
   ]
  },
  {
   "cell_type": "code",
   "execution_count": 11,
   "metadata": {
    "scrolled": false
   },
   "outputs": [
    {
     "name": "stdout",
     "output_type": "stream",
     "text": [
      "'Fitting the tail considers 2958 data points.'\n",
      "'Fitting the whole data set considers 18855 data points.'\n"
     ]
    },
    {
     "data": {
      "text/plain": [
       "<matplotlib.legend.Legend at 0x120633cf8>"
      ]
     },
     "execution_count": 11,
     "metadata": {},
     "output_type": "execute_result"
    },
    {
     "data": {
      "image/png": "[encoded data removed]",
      "text/plain": [
       "<Figure size 432x288 with 1 Axes>"
      ]
     },
     "metadata": {},
     "output_type": "display_data"
    }
   ],
   "source": [
    "fig05 = fit.power_law.plot_pdf(color='b', linestyle='--', label='Power law fit (tail)') # blue dashed line: best fit for xmin = 7\n",
    "pprint(\"Fitting the tail considers \" +  str(round(fit.n_tail)) + \" data points.\")\n",
    "\n",
    "fitxmin1 = powerlaw.Fit(data, xmin=1, discrete=True)\n",
    "pprint(\"Fitting the whole data set considers \" +  str(round(fitxmin1.n_tail)) + \" data points.\")\n",
    "fitxmin1.plot_pdf(color='g', linewidth=2, ax=fig05, label='Empirical data') # green thick line: full data set\n",
    "fitxmin1.power_law.plot_pdf(linestyle=':', color='g', ax=fig05, label='Power law fit (all)') # green dotted line: best fit for xmin = 1\n",
    "\n",
    "handles, labels = fig05.get_legend_handles_labels()\n",
    "fig05.set_ylabel(u\"pdf P(X)\")\n",
    "fig05.set_xlabel(r\"Word Frequency\")\n",
    "fig05.legend(handles, labels, loc=3)"
   ]
  },
  {
   "cell_type": "markdown",
   "metadata": {
    "slideshow": {
     "slide_type": "slide"
    }
   },
   "source": [
    "We can investigate how D looks for different xmins. The next two figures show it is really minimal for xmin=7."
   ]
  },
  {
   "cell_type": "code",
   "execution_count": 12,
   "metadata": {
    "scrolled": false
   },
   "outputs": [
    {
     "data": {
      "image/png": "[encoded data removed]",
      "text/plain": [
       "<Figure size 432x288 with 1 Axes>"
      ]
     },
     "metadata": {},
     "output_type": "display_data"
    },
    {
     "data": {
      "image/png": "[encoded data removed]",
      "text/plain": [
       "<Figure size 432x288 with 1 Axes>"
      ]
     },
     "metadata": {},
     "output_type": "display_data"
    }
   ],
   "source": [
    "fig06 = plt.figure()\n",
    "plt.plot(fit.xmins, fit.Ds)\n",
    "plt.xlabel(\"xmin\")\n",
    "plt.ylabel(\"D\")\n",
    "plt.show()\n",
    "\n",
    "fig07 = plt.figure()\n",
    "plt.plot(fit.xmins[:20], fit.Ds[:20])\n",
    "plt.xlabel(\"xmin\")\n",
    "plt.ylabel(\"D\")\n",
    "plt.show()"
   ]
  },
  {
   "cell_type": "markdown",
   "metadata": {
    "slideshow": {
     "slide_type": "slide"
    }
   },
   "source": [
    "#### Testing the goodness of fit"
   ]
  },
  {
   "cell_type": "markdown",
   "metadata": {},
   "source": [
    "So far so good. The powerlaw package gave us an alpha and an xmin. But it would have given us two values for ANY data set. So we need to check the goodness of fit - we follow the method of Clauset et al: We create simulated tails with the same number of tail data points and the same parameters xmin and alpha, and glue them together with the head. For each of these data sets we fit a power law and record the KS statistic. To be accurate, we would have to create around 10,000 data sets, which takes time; for demonstration purposes we just do 50 here."
   ]
  },
  {
   "cell_type": "code",
   "execution_count": 13,
   "metadata": {},
   "outputs": [
    {
     "name": "stdout",
     "output_type": "stream",
     "text": [
      "array([  6.        ,   6.        ,   6.        , ...,  84.90194289,\n",
      "       250.06124871,  32.86271751])\n"
     ]
    },
    {
     "name": "stderr",
     "output_type": "stream",
     "text": [
      "Calculating best minimal value for power law fit\n",
      "Calculating best minimal value for power law fit\n",
      "Calculating best minimal value for power law fit\n",
      "Calculating best minimal value for power law fit\n",
      "Calculating best minimal value for power law fit\n",
      "Calculating best minimal value for power law fit\n",
      "Calculating best minimal value for power law fit\n",
      "Calculating best minimal value for power law fit\n",
      "Calculating best minimal value for power law fit\n",
      "Calculating best minimal value for power law fit\n",
      "Calculating best minimal value for power law fit\n",
      "Calculating best minimal value for power law fit\n",
      "Calculating best minimal value for power law fit\n",
      "Calculating best minimal value for power law fit\n",
      "Calculating best minimal value for power law fit\n",
      "Calculating best minimal value for power law fit\n",
      "Calculating best minimal value for power law fit\n",
      "Calculating best minimal value for power law fit\n",
      "Calculating best minimal value for power law fit\n",
      "Calculating best minimal value for power law fit\n",
      "Calculating best minimal value for power law fit\n",
      "Calculating best minimal value for power law fit\n",
      "Calculating best minimal value for power law fit\n",
      "Calculating best minimal value for power law fit\n",
      "Calculating best minimal value for power law fit\n",
      "Calculating best minimal value for power law fit\n",
      "Calculating best minimal value for power law fit\n",
      "Calculating best minimal value for power law fit\n",
      "Calculating best minimal value for power law fit\n",
      "Calculating best minimal value for power law fit\n",
      "Calculating best minimal value for power law fit\n",
      "Calculating best minimal value for power law fit\n",
      "Calculating best minimal value for power law fit\n",
      "Calculating best minimal value for power law fit\n",
      "Calculating best minimal value for power law fit\n",
      "Calculating best minimal value for power law fit\n",
      "Calculating best minimal value for power law fit\n",
      "Calculating best minimal value for power law fit\n",
      "Calculating best minimal value for power law fit\n",
      "Calculating best minimal value for power law fit\n",
      "Calculating best minimal value for power law fit\n",
      "Calculating best minimal value for power law fit\n",
      "Calculating best minimal value for power law fit\n",
      "Calculating best minimal value for power law fit\n",
      "Calculating best minimal value for power law fit\n",
      "Calculating best minimal value for power law fit\n",
      "Calculating best minimal value for power law fit\n",
      "Calculating best minimal value for power law fit\n",
      "Calculating best minimal value for power law fit\n",
      "Calculating best minimal value for power law fit\n"
     ]
    }
   ],
   "source": [
    "numsim = 50 # number of synthetic data sets\n",
    "\n",
    "Ds_simulated = [None]*numsim # list of synthetic KS statistics\n",
    "data_head = np.array([data[i] for i in range(len(data)) if data[i] < int(fit.xmin)])\n",
    "\n",
    "for i in range(numsim):\n",
    "    theoretical_distribution = powerlaw.Power_Law(xmin=fit.xmin, parameters=[fit.alpha])\n",
    "    simulated_data = theoretical_distribution.generate_random(round(fit.n_tail)) # simulated tail data\n",
    "    simulated_data = np.append(data_head, simulated_data) # put together simulated tail with real head\n",
    "    if i == 0:\n",
    "        pprint(simulated_data) # Show the first sythetic data set, to make sure we did it correctly\n",
    "    fit_simulated = powerlaw.Fit(simulated_data, verbose=True)\n",
    "    Ds_simulated[i] = fit_simulated.D"
   ]
  },
  {
   "cell_type": "markdown",
   "metadata": {
    "slideshow": {
     "slide_type": "slide"
    }
   },
   "source": [
    "Now: Calculate the p-value as the fraction of the KS statistics for the synthetic data sets whose value exceeds the KS statistic for the real data."
   ]
  },
  {
   "cell_type": "code",
   "execution_count": 14,
   "metadata": {},
   "outputs": [
    {
     "name": "stdout",
     "output_type": "stream",
     "text": [
      "'The p-value 0.66 is >0.1, therefore we cannot reject the power law hypothesis.'\n"
     ]
    }
   ],
   "source": [
    "Ds_simulated = np.array(Ds_simulated)\n",
    "pval = len(Ds_simulated[Ds_simulated > fit.D]) / len(Ds_simulated)\n",
    "pprint(\"The p-value \" + str(pval) + \" is >0.1, therefore we cannot reject the power law hypothesis.\")"
   ]
  },
  {
   "cell_type": "markdown",
   "metadata": {},
   "source": [
    "Visually, this means that the KS statistic of the real data (yellow line) is left of the 0.9-quantile of the distribution of synthetic KS statistics (red line):"
   ]
  },
  {
   "cell_type": "code",
   "execution_count": 15,
   "metadata": {
    "scrolled": true
   },
   "outputs": [
    {
     "data": {
      "image/png": "[encoded data removed]",
      "text/plain": [
       "<Figure size 432x288 with 1 Axes>"
      ]
     },
     "metadata": {},
     "output_type": "display_data"
    }
   ],
   "source": [
    "plt.hist(Ds_simulated)\n",
    "plt.axvline(x=fit.D, color='y', linewidth=2)\n",
    "plt.axvline(x=np.percentile(Ds_simulated, 90), color='r', linewidth=1, linestyle='--') \n",
    "plt.show()"
   ]
  },
  {
   "cell_type": "markdown",
   "metadata": {},
   "source": [
    "Only if the yellow line had come out to the right of the red line, we would have had to reject the power law hypothesis."
   ]
  },
  {
   "cell_type": "markdown",
   "metadata": {
    "slideshow": {
     "slide_type": "slide"
    }
   },
   "source": [
    "### Fitting a lognormal, and comparing it with the power law fit"
   ]
  },
  {
   "cell_type": "code",
   "execution_count": 16,
   "metadata": {},
   "outputs": [
    {
     "data": {
      "text/plain": [
       "<matplotlib.legend.Legend at 0x1217d7470>"
      ]
     },
     "execution_count": 16,
     "metadata": {},
     "output_type": "execute_result"
    },
    {
     "data": {
      "image/png": "[encoded data removed]",
      "text/plain": [
       "<Figure size 432x288 with 1 Axes>"
      ]
     },
     "metadata": {},
     "output_type": "display_data"
    }
   ],
   "source": [
    "fit.distribution_compare('power_law', 'lognormal')\n",
    "fig08 = fit.plot_ccdf(linewidth=3, label='Empirical Data')\n",
    "fit.power_law.plot_ccdf(ax=fig08, color='r', linestyle='--', label='Power law fit')\n",
    "fit.lognormal.plot_ccdf(ax=fig08, color='g', linestyle='--', label='Lognormal fit')\n",
    "\n",
    "fig08.set_ylabel(u\"p(X≥x)\")\n",
    "fig08.set_xlabel(\"Word Frequency\")\n",
    "handles, labels = fig08.get_legend_handles_labels()\n",
    "fig08.legend(handles, labels, loc=3)"
   ]
  },
  {
   "cell_type": "markdown",
   "metadata": {},
   "source": [
    "It looks like a lognormal could fit the same way as a power law. Let's investigate the parameters:"
   ]
  },
  {
   "cell_type": "code",
   "execution_count": 17,
   "metadata": {},
   "outputs": [
    {
     "name": "stdout",
     "output_type": "stream",
     "text": [
      "mu: -723.877\n",
      "sigma: 27.66\n"
     ]
    }
   ],
   "source": [
    "print(\"mu: \" + str(round(fit.lognormal.mu, 3)))\n",
    "print(\"sigma: \" + str(round(fit.lognormal.sigma, 3)))"
   ]
  },
  {
   "cell_type": "markdown",
   "metadata": {},
   "source": [
    "Strange that mu is negative. Maybe lognormal is not a good fit after all? Let's compare power law with lognormal:"
   ]
  },
  {
   "cell_type": "code",
   "execution_count": 18,
   "metadata": {},
   "outputs": [
    {
     "name": "stdout",
     "output_type": "stream",
     "text": [
      "R: 0.0088\n",
      "p-value: 0.95\n"
     ]
    }
   ],
   "source": [
    "R,p = fit.distribution_compare('power_law', 'lognormal')\n",
    "print(\"R: \" + str(round(R, 4)))\n",
    "print(\"p-value: \" + str(round(p, 2)))"
   ]
  },
  {
   "cell_type": "markdown",
   "metadata": {},
   "source": [
    "R is the likelihood ratio between the two candidate distributions. Because it is positive, the data is more likely to follow the first distribution, i.e. the power law. However, the p-value is larger than 0.1, so this distinction is not significant. \n",
    "\n",
    "Stopping here, we conclude that the power law is a good fit to the data, but we cannot exclude that a lognormal could fit as well."
   ]
  }
 ],
 "metadata": {
  "kernelspec": {
   "display_name": "Python 3",
   "language": "python",
   "name": "python3"
  },
  "language_info": {
   "codemirror_mode": {
    "name": "ipython",
    "version": 3
   },
   "file_extension": ".py",
   "mimetype": "text/x-python",
   "name": "python",
   "nbconvert_exporter": "python",
   "pygments_lexer": "ipython3",
   "version": "3.7.3"
  }
 },
 "nbformat": 4,
 "nbformat_minor": 1
}
