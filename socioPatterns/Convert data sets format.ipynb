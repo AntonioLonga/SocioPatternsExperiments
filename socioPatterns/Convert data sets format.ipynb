{
 "cells": [
  {
   "cell_type": "code",
   "execution_count": 1,
   "metadata": {},
   "outputs": [
    {
     "data": {
      "text/html": [
       "<style>.container { width:97% !important; }</style><style>.output_png {display: table-cell;text-align: center;vertical-align: middle;}</style>"
      ],
      "text/plain": [
       "<IPython.core.display.HTML object>"
      ]
     },
     "execution_count": 1,
     "metadata": {},
     "output_type": "execute_result"
    }
   ],
   "source": [
    "import utilities as ut\n",
    "import construction as cs\n",
    "import singleDatasetAnalysis as san\n",
    "import multipleDatasetAnalysis as man\n",
    "import networkx as nx\n",
    "import numpy as np\n",
    "import matplotlib.pyplot as plt\n",
    "import pandas as pd\n",
    "\n",
    "\n",
    "%load_ext autoreload\n",
    "%autoreload 2\n",
    "\n",
    "\n",
    "from IPython.core.display import HTML\n",
    "HTML('<style>.container { width:97% !important; }</style><style>.output_png {display: table-cell;text-align: center;vertical-align: middle;}</style>')"
   ]
  },
  {
   "cell_type": "code",
   "execution_count": 112,
   "metadata": {},
   "outputs": [],
   "source": []
  },
  {
   "cell_type": "code",
   "execution_count": 4,
   "metadata": {},
   "outputs": [
    {
     "name": "stdout",
     "output_type": "stream",
     "text": [
      "    time  node1  node2 id1 id2  sex\n",
      "0  31220   1558   1567  3B  3B  NaN\n",
      "1  31220   1560   1570  3B  3B  NaN\n",
      "2  31220   1567   1574  3B  3B  NaN\n",
      "3  31220   1632   1818  4B  4B  NaN\n",
      "4  31220   1632   1866  4B  4B  NaN\n"
     ]
    }
   ],
   "source": [
    "data_in = pd.read_csv('data/InVS13.dat', delimiter = '\\s',names=[\"time\",\"node1\",\"node2\"])\n",
    "print(data_in.head())\n",
    "data_in[\"time\"] = data_in[\"time\"]-28820"
   ]
  },
  {
   "cell_type": "code",
   "execution_count": null,
   "metadata": {},
   "outputs": [],
   "source": []
  },
  {
   "cell_type": "code",
   "execution_count": null,
   "metadata": {},
   "outputs": [],
   "source": []
  },
  {
   "cell_type": "code",
   "execution_count": null,
   "metadata": {},
   "outputs": [],
   "source": []
  },
  {
   "cell_type": "code",
   "execution_count": 13,
   "metadata": {},
   "outputs": [
    {
     "name": "stderr",
     "output_type": "stream",
     "text": [
      "/home/antonio/anaconda3/envs/tesi/lib/python3.7/site-packages/ipykernel_launcher.py:2: ParserWarning: Falling back to the 'python' engine because the 'c' engine does not support regex separators (separators > 1 char and different from '\\s+' are interpreted as regex); you can avoid this warning by specifying engine='python'.\n",
      "  \n"
     ]
    },
    {
     "name": "stdout",
     "output_type": "stream",
     "text": [
      "         time  node1  node2 id node 1 id node 2\n",
      "0  1353303380   1170   1644      MP*1      MP*1\n",
      "1  1353303400   1170   1613      MP*1      MP*1\n",
      "2  1353303640   1170   1644      MP*1      MP*1\n",
      "3  1353303760   1181   1651      MP*1      MP*1\n",
      "4  1353303840   1108   1190      MP*1      MP*1\n"
     ]
    }
   ],
   "source": [
    "name = \"High_School12\"\n",
    "data_in = pd.read_csv('data/face-to-face/High_School12.csv', delimiter = '\\s',names=[\"time\",\"node1\",\"node2\",\"id node 1\",\"id node 2\"])\n",
    "print(data_in.head())"
   ]
  },
  {
   "cell_type": "code",
   "execution_count": 14,
   "metadata": {},
   "outputs": [
    {
     "name": "stdout",
     "output_type": "stream",
     "text": [
      "         0\n",
      "1170  MP*1\n",
      "1644  MP*1\n",
      "1613  MP*1\n",
      "1181  MP*1\n",
      "1651  MP*1\n"
     ]
    }
   ],
   "source": [
    "\n",
    "data_in[\"time\"] = data_in[\"time\"]-54120\n",
    "\n",
    "\n",
    "data = data_in[[\"time\",\"node1\",\"node2\"]]\n",
    "pathname = \"data/face-to-face/\"+name+\".dat\"\n",
    "pathname_meta = \"data/face-to-face/metadata/metadata_\"+name+\".dat\"\n",
    "export_csv = data.to_csv(pathname, sep=\"\\t\",index = None, header=False) #Don't forget to add '.csv' at the end of the path\n",
    "\n",
    "\n",
    "meta_dict = dict()\n",
    "for index, row in data_in.iterrows():\n",
    "    if not(row[\"node1\"] in meta_dict):\n",
    "        meta_dict[row[\"node1\"]] = row[\"id node 1\"]\n",
    "    if not(row[\"node2\"] in meta_dict):\n",
    "        meta_dict[row[\"node2\"]] = row[\"id node 2\"] \n",
    "        \n",
    "        \n",
    "        \n",
    "meta_dataframe = pd.DataFrame.from_dict(meta_dict,orient='index')\n",
    "print(meta_dataframe.head())\n",
    "meta_dataframe.sort_values(by=[0], inplace=True)\n",
    "\n",
    "\n",
    "\n",
    "export_csv = meta_dataframe.to_csv(pathname_meta, sep=\"\\t\",index = True, header=False) #Don't forget to add '.csv' at the end of the path"
   ]
  },
  {
   "cell_type": "code",
   "execution_count": 98,
   "metadata": {},
   "outputs": [],
   "source": []
  },
  {
   "cell_type": "code",
   "execution_count": 99,
   "metadata": {},
   "outputs": [],
   "source": []
  },
  {
   "cell_type": "code",
   "execution_count": 108,
   "metadata": {},
   "outputs": [
    {
     "name": "stdout",
     "output_type": "stream",
     "text": [
      "        0\n",
      "1157  MED\n",
      "1232  ADM\n",
      "1191  MED\n",
      "1159  MED\n",
      "1144  MED\n"
     ]
    }
   ],
   "source": []
  },
  {
   "cell_type": "code",
   "execution_count": null,
   "metadata": {},
   "outputs": [],
   "source": []
  },
  {
   "cell_type": "code",
   "execution_count": 109,
   "metadata": {},
   "outputs": [],
   "source": []
  },
  {
   "cell_type": "code",
   "execution_count": null,
   "metadata": {},
   "outputs": [],
   "source": []
  }
 ],
 "metadata": {
  "kernelspec": {
   "display_name": "Python 3",
   "language": "python",
   "name": "python3"
  },
  "language_info": {
   "codemirror_mode": {
    "name": "ipython",
    "version": 3
   },
   "file_extension": ".py",
   "mimetype": "text/x-python",
   "name": "python",
   "nbconvert_exporter": "python",
   "pygments_lexer": "ipython3",
   "version": "3.7.3"
  }
 },
 "nbformat": 4,
 "nbformat_minor": 2
}
